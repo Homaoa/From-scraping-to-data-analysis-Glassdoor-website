{
  "nbformat": 4,
  "nbformat_minor": 0,
  "metadata": {
    "colab": {
      "name": "Cleaning the data.ipynb",
      "provenance": [],
      "collapsed_sections": [],
      "authorship_tag": "ABX9TyNM1o2g0NOgsxUkEYlFC3DC",
      "include_colab_link": true
    },
    "kernelspec": {
      "display_name": "Python 3",
      "name": "python3"
    },
    "language_info": {
      "name": "python"
    }
  },
  "cells": [
    {
      "cell_type": "markdown",
      "metadata": {
        "id": "view-in-github",
        "colab_type": "text"
      },
      "source": [
        "<a href=\"https://colab.research.google.com/github/Homaoa/From-scraping-to-data-analysis-Glassdoor-website/blob/main/Cleaning_the_data.ipynb\" target=\"_parent\"><img src=\"https://colab.research.google.com/assets/colab-badge.svg\" alt=\"Open In Colab\"/></a>"
      ]
    },
    {
      "cell_type": "code",
      "metadata": {
        "id": "H1XvH9g7WJJI"
      },
      "source": [
        "import pandas as pd"
      ],
      "execution_count": 2,
      "outputs": []
    },
    {
      "cell_type": "code",
      "metadata": {
        "colab": {
          "base_uri": "https://localhost:8080/",
          "height": 204
        },
        "id": "gm3aCAdjWq83",
        "outputId": "1af763fc-9507-4f7b-b44a-ae027cd945f2"
      },
      "source": [
        "url='/content/glassdoor_scrape.csv'\n",
        "df=pd.read_csv(url)\n",
        "df.head()"
      ],
      "execution_count": 41,
      "outputs": [
        {
          "output_type": "execute_result",
          "data": {
            "text/html": [
              "<div>\n",
              "<style scoped>\n",
              "    .dataframe tbody tr th:only-of-type {\n",
              "        vertical-align: middle;\n",
              "    }\n",
              "\n",
              "    .dataframe tbody tr th {\n",
              "        vertical-align: top;\n",
              "    }\n",
              "\n",
              "    .dataframe thead th {\n",
              "        text-align: right;\n",
              "    }\n",
              "</style>\n",
              "<table border=\"1\" class=\"dataframe\">\n",
              "  <thead>\n",
              "    <tr style=\"text-align: right;\">\n",
              "      <th></th>\n",
              "      <th>Unnamed: 0</th>\n",
              "      <th>Title</th>\n",
              "      <th>City</th>\n",
              "      <th>Salary</th>\n",
              "      <th>Rating</th>\n",
              "      <th>Company</th>\n",
              "    </tr>\n",
              "  </thead>\n",
              "  <tbody>\n",
              "    <tr>\n",
              "      <th>0</th>\n",
              "      <td>0</td>\n",
              "      <td>DATA SCIENTIST-HEALTHCARE</td>\n",
              "      <td>Dayton, OH</td>\n",
              "      <td>$56K - $96K</td>\n",
              "      <td>3.6</td>\n",
              "      <td>Premier Health</td>\n",
              "    </tr>\n",
              "    <tr>\n",
              "      <th>1</th>\n",
              "      <td>1</td>\n",
              "      <td>Data Scientist</td>\n",
              "      <td>Washington, DC</td>\n",
              "      <td>$78K - $150K</td>\n",
              "      <td>3.9</td>\n",
              "      <td>Deloitte</td>\n",
              "    </tr>\n",
              "    <tr>\n",
              "      <th>2</th>\n",
              "      <td>2</td>\n",
              "      <td>Data Scientist</td>\n",
              "      <td>Lorton, VA</td>\n",
              "      <td>$120K</td>\n",
              "      <td>2.6</td>\n",
              "      <td>QinetiQ Inc.</td>\n",
              "    </tr>\n",
              "    <tr>\n",
              "      <th>3</th>\n",
              "      <td>3</td>\n",
              "      <td>Data Scientist with TS Clearance</td>\n",
              "      <td>Arlington, VA</td>\n",
              "      <td>$86K - $154K</td>\n",
              "      <td>3.9</td>\n",
              "      <td>Deloitte</td>\n",
              "    </tr>\n",
              "    <tr>\n",
              "      <th>4</th>\n",
              "      <td>4</td>\n",
              "      <td>Data Scientist Principal</td>\n",
              "      <td>Hagerstown, MD</td>\n",
              "      <td>$73K - $137K</td>\n",
              "      <td>4.0</td>\n",
              "      <td>JLG Equipment Services Inc</td>\n",
              "    </tr>\n",
              "  </tbody>\n",
              "</table>\n",
              "</div>"
            ],
            "text/plain": [
              "   Unnamed: 0  ...                     Company\n",
              "0           0  ...              Premier Health\n",
              "1           1  ...                    Deloitte\n",
              "2           2  ...                QinetiQ Inc.\n",
              "3           3  ...                    Deloitte\n",
              "4           4  ...  JLG Equipment Services Inc\n",
              "\n",
              "[5 rows x 6 columns]"
            ]
          },
          "metadata": {
            "tags": []
          },
          "execution_count": 41
        }
      ]
    },
    {
      "cell_type": "code",
      "metadata": {
        "colab": {
          "base_uri": "https://localhost:8080/"
        },
        "id": "FUR_wH4hX7EG",
        "outputId": "cde5179a-2c55-40ba-c33e-1d39a2345824"
      },
      "source": [
        "df.info()"
      ],
      "execution_count": 34,
      "outputs": [
        {
          "output_type": "stream",
          "text": [
            "<class 'pandas.core.frame.DataFrame'>\n",
            "RangeIndex: 870 entries, 0 to 869\n",
            "Data columns (total 6 columns):\n",
            " #   Column      Non-Null Count  Dtype  \n",
            "---  ------      --------------  -----  \n",
            " 0   Unnamed: 0  870 non-null    int64  \n",
            " 1   Title       870 non-null    object \n",
            " 2   City        870 non-null    object \n",
            " 3   Salary      544 non-null    object \n",
            " 4   Rating      735 non-null    float64\n",
            " 5   Company     870 non-null    object \n",
            "dtypes: float64(1), int64(1), object(4)\n",
            "memory usage: 40.9+ KB\n"
          ],
          "name": "stdout"
        }
      ]
    },
    {
      "cell_type": "code",
      "metadata": {
        "id": "uPyon9cdNScG"
      },
      "source": [
        "#Salary parsing\n",
        "\n",
        "#there is missing data in salary column that should be removed.\n",
        "#also, some salaries are per hour. A new variable should be defined to convey that.\n",
        "#min, max and average of the salary should be calculated."
      ],
      "execution_count": null,
      "outputs": []
    },
    {
      "cell_type": "code",
      "metadata": {
        "id": "Do0afeZH730g"
      },
      "source": [
        "df.dropna(subset=['Salary'],axis=0,inplace=True)"
      ],
      "execution_count": 42,
      "outputs": []
    },
    {
      "cell_type": "code",
      "metadata": {
        "id": "j8iIcriyYVIz"
      },
      "source": [
        "df['Hourly']=df['Salary'].apply(lambda x: 1 if 'per hour' in x.lower() else 0)"
      ],
      "execution_count": 43,
      "outputs": []
    },
    {
      "cell_type": "code",
      "metadata": {
        "id": "YdycJLLf28qD"
      },
      "source": [
        "\n",
        "df['Salary without $ and K']=df['Salary'].apply(lambda x: x.replace('$',' ').replace('K',' '))\n",
        "df['Salary without $ and K']=df['Salary without $ and K'].apply(lambda x: x.lower().replace('per hour',' '))"
      ],
      "execution_count": 45,
      "outputs": []
    },
    {
      "cell_type": "code",
      "metadata": {
        "id": "jZQKKexW2CZF"
      },
      "source": [
        "df['Min_Salary']=df['Salary without $ and K'].apply(lambda x: int(x.split('-')[0]))\n",
        "df['Max_Salary']=df['Salary without $ and K'].apply(lambda x: int(x.split('-')[1]) if '-' in x else int(x.split('-')[0]))\n",
        "df['Avg_Salary']=(df.Min_Salary+df.Max_Salary)/2"
      ],
      "execution_count": 47,
      "outputs": []
    },
    {
      "cell_type": "code",
      "metadata": {
        "id": "lQ8brxlpTk2d"
      },
      "source": [
        "#hourly wage to annual. to obtain annual salary I multiple hour salary into 2000. but since other annual salaries had 1000 as K that was removed,\n",
        "#it is enough to multiple hour salari into 2.\n",
        "df['Min_Salary']=df.apply(lambda x: x['Min_Salary'] if x['Hourly']==0 else x['Min_Salary']*2,axis=1)\n",
        "df['Max_Salary']=df.apply(lambda x: x['Max_Salary'] if x['Hourly']==0 else x['Max_Salary']*2,axis=1)\n",
        "df['Avg_Salary']=df.apply(lambda x: x['Avg_Salary'] if x['Hourly']==0 else x['Avg_Salary']*2,axis=1)"
      ],
      "execution_count": 48,
      "outputs": []
    },
    {
      "cell_type": "code",
      "metadata": {
        "id": "2dopea0LYA_D"
      },
      "source": [
        "#City parsing\n",
        "\n",
        "#variable state should be added, because it makes more sense to work with states instead of the cities"
      ],
      "execution_count": null,
      "outputs": []
    },
    {
      "cell_type": "code",
      "metadata": {
        "id": "45UF_V0jXJc6"
      },
      "source": [
        "df['State']=df['City'].apply(lambda x: x.split(',')[-1])"
      ],
      "execution_count": 49,
      "outputs": []
    },
    {
      "cell_type": "code",
      "metadata": {
        "id": "lTf6kAndZFp8"
      },
      "source": [
        "df=df.drop(['Unnamed: 0'],axis=1)"
      ],
      "execution_count": 50,
      "outputs": []
    },
    {
      "cell_type": "code",
      "metadata": {
        "id": "UBdCDzDtchHw"
      },
      "source": [
        "df.reset_index(drop=True,inplace=True)"
      ],
      "execution_count": 51,
      "outputs": []
    },
    {
      "cell_type": "code",
      "metadata": {
        "id": "NXsbYLEYxJjn"
      },
      "source": [
        "#simplifying titles"
      ],
      "execution_count": null,
      "outputs": []
    },
    {
      "cell_type": "code",
      "metadata": {
        "id": "47t6psNIxGDp"
      },
      "source": [
        "def title_simplifier(title):\n",
        "  if 'data scientist' in title.lower():\n",
        "    return 'data scientist'\n",
        "  elif 'data engineer' in title.lower():\n",
        "    return 'data engineer'\n",
        "  elif 'analyst' in title.lower():\n",
        "    return 'analyst'\n",
        "  elif 'machine learning' in title.lower():\n",
        "    return 'ml'\n",
        "  elif 'manager' in title.lower():\n",
        "    return 'manager'\n",
        "  elif 'director' in title.lower():\n",
        "    return 'director'\n",
        "  else:\n",
        "    return 'na'\n",
        "\n",
        "def seniority(title):\n",
        "  if 'sr' in title.lower() or 'senior' in title.lower() or 'lead' in title.lower() or 'principal' in title.lower():\n",
        "    return 'sr'\n",
        "  elif 'jr' in title.lower() or 'junior' in title.lower():\n",
        "    return 'jr'\n",
        "  else:\n",
        "    return 'na'\n"
      ],
      "execution_count": 52,
      "outputs": []
    },
    {
      "cell_type": "code",
      "metadata": {
        "id": "3NLUlTxv_xgT"
      },
      "source": [
        "df['Title Simp']=df['Title'].apply(title_simplifier)"
      ],
      "execution_count": 53,
      "outputs": []
    },
    {
      "cell_type": "code",
      "metadata": {
        "id": "_GD1wB0-Adpp"
      },
      "source": [
        "df['Seniority']=df['Title'].apply(seniority)"
      ],
      "execution_count": 54,
      "outputs": []
    },
    {
      "cell_type": "code",
      "metadata": {
        "id": "qD211MBbAdyN"
      },
      "source": [
        "#I saw that there is a job in Bristol, UK. I remove that\n",
        "\n",
        "df['State']=df['State'].apply(lambda x: x.strip() if x.strip() != 'Bristol' else 'na')"
      ],
      "execution_count": 55,
      "outputs": []
    },
    {
      "cell_type": "code",
      "metadata": {
        "id": "krrq31KbbKsA"
      },
      "source": [
        "df.to_csv('glassdoor_data_cleaned.csv')"
      ],
      "execution_count": 57,
      "outputs": []
    },
    {
      "cell_type": "code",
      "metadata": {
        "id": "4SbekBths0YS"
      },
      "source": [
        ""
      ],
      "execution_count": null,
      "outputs": []
    }
  ]
}