{
  "nbformat": 4,
  "nbformat_minor": 0,
  "metadata": {
    "colab": {
      "name": "Cleaning the data.ipynb",
      "provenance": [],
      "collapsed_sections": [],
      "authorship_tag": "ABX9TyM05j+iFb5+N3G3toaUnUOM",
      "include_colab_link": true
    },
    "kernelspec": {
      "display_name": "Python 3",
      "name": "python3"
    },
    "language_info": {
      "name": "python"
    }
  },
  "cells": [
    {
      "cell_type": "markdown",
      "metadata": {
        "id": "view-in-github",
        "colab_type": "text"
      },
      "source": [
        "<a href=\"https://colab.research.google.com/github/Homaoa/From-scraping-to-data-analysis-Glassdoor-website/blob/main/Cleaning_the_data.ipynb\" target=\"_parent\"><img src=\"https://colab.research.google.com/assets/colab-badge.svg\" alt=\"Open In Colab\"/></a>"
      ]
    },
    {
      "cell_type": "code",
      "metadata": {
        "id": "H1XvH9g7WJJI"
      },
      "source": [
        "import pandas as pd"
      ],
      "execution_count": 2,
      "outputs": []
    },
    {
      "cell_type": "code",
      "metadata": {
        "colab": {
          "base_uri": "https://localhost:8080/",
          "height": 204
        },
        "id": "gm3aCAdjWq83",
        "outputId": "84cec573-539b-400a-f15c-9c118187e8f5"
      },
      "source": [
        "url='/content/glassdoor_scrape.csv'\n",
        "df=pd.read_csv(url)\n",
        "df.head()"
      ],
      "execution_count": 31,
      "outputs": [
        {
          "output_type": "execute_result",
          "data": {
            "text/html": [
              "<div>\n",
              "<style scoped>\n",
              "    .dataframe tbody tr th:only-of-type {\n",
              "        vertical-align: middle;\n",
              "    }\n",
              "\n",
              "    .dataframe tbody tr th {\n",
              "        vertical-align: top;\n",
              "    }\n",
              "\n",
              "    .dataframe thead th {\n",
              "        text-align: right;\n",
              "    }\n",
              "</style>\n",
              "<table border=\"1\" class=\"dataframe\">\n",
              "  <thead>\n",
              "    <tr style=\"text-align: right;\">\n",
              "      <th></th>\n",
              "      <th>Unnamed: 0</th>\n",
              "      <th>Title</th>\n",
              "      <th>City</th>\n",
              "      <th>Salary</th>\n",
              "      <th>Rating</th>\n",
              "      <th>Company</th>\n",
              "    </tr>\n",
              "  </thead>\n",
              "  <tbody>\n",
              "    <tr>\n",
              "      <th>0</th>\n",
              "      <td>0</td>\n",
              "      <td>DATA SCIENTIST-HEALTHCARE</td>\n",
              "      <td>Dayton, OH</td>\n",
              "      <td>$56K - $96K</td>\n",
              "      <td>3.6</td>\n",
              "      <td>Premier Health</td>\n",
              "    </tr>\n",
              "    <tr>\n",
              "      <th>1</th>\n",
              "      <td>1</td>\n",
              "      <td>Data Scientist</td>\n",
              "      <td>Washington, DC</td>\n",
              "      <td>$78K - $150K</td>\n",
              "      <td>3.9</td>\n",
              "      <td>Deloitte</td>\n",
              "    </tr>\n",
              "    <tr>\n",
              "      <th>2</th>\n",
              "      <td>2</td>\n",
              "      <td>Data Scientist</td>\n",
              "      <td>Lorton, VA</td>\n",
              "      <td>$120K</td>\n",
              "      <td>2.6</td>\n",
              "      <td>QinetiQ Inc.</td>\n",
              "    </tr>\n",
              "    <tr>\n",
              "      <th>3</th>\n",
              "      <td>3</td>\n",
              "      <td>Data Scientist with TS Clearance</td>\n",
              "      <td>Arlington, VA</td>\n",
              "      <td>$86K - $154K</td>\n",
              "      <td>3.9</td>\n",
              "      <td>Deloitte</td>\n",
              "    </tr>\n",
              "    <tr>\n",
              "      <th>4</th>\n",
              "      <td>4</td>\n",
              "      <td>Data Scientist Principal</td>\n",
              "      <td>Hagerstown, MD</td>\n",
              "      <td>$73K - $137K</td>\n",
              "      <td>4.0</td>\n",
              "      <td>JLG Equipment Services Inc</td>\n",
              "    </tr>\n",
              "  </tbody>\n",
              "</table>\n",
              "</div>"
            ],
            "text/plain": [
              "   Unnamed: 0  ...                     Company\n",
              "0           0  ...              Premier Health\n",
              "1           1  ...                    Deloitte\n",
              "2           2  ...                QinetiQ Inc.\n",
              "3           3  ...                    Deloitte\n",
              "4           4  ...  JLG Equipment Services Inc\n",
              "\n",
              "[5 rows x 6 columns]"
            ]
          },
          "metadata": {
            "tags": []
          },
          "execution_count": 31
        }
      ]
    },
    {
      "cell_type": "code",
      "metadata": {
        "colab": {
          "base_uri": "https://localhost:8080/"
        },
        "id": "FUR_wH4hX7EG",
        "outputId": "d542a169-d260-4612-eabc-81bb4d427f9a"
      },
      "source": [
        "df.info()"
      ],
      "execution_count": 32,
      "outputs": [
        {
          "output_type": "stream",
          "text": [
            "<class 'pandas.core.frame.DataFrame'>\n",
            "RangeIndex: 870 entries, 0 to 869\n",
            "Data columns (total 6 columns):\n",
            " #   Column      Non-Null Count  Dtype  \n",
            "---  ------      --------------  -----  \n",
            " 0   Unnamed: 0  870 non-null    int64  \n",
            " 1   Title       870 non-null    object \n",
            " 2   City        870 non-null    object \n",
            " 3   Salary      544 non-null    object \n",
            " 4   Rating      735 non-null    float64\n",
            " 5   Company     870 non-null    object \n",
            "dtypes: float64(1), int64(1), object(4)\n",
            "memory usage: 40.9+ KB\n"
          ],
          "name": "stdout"
        }
      ]
    },
    {
      "cell_type": "code",
      "metadata": {
        "id": "uPyon9cdNScG"
      },
      "source": [
        "#Salary parsing\n",
        "\n",
        "#there is missing data in salary column that should be removed.\n",
        "#also, some salaries are per hour. A new variable should be defined to convey that.\n",
        "#min, max and average of the salary should be calculated."
      ],
      "execution_count": null,
      "outputs": []
    },
    {
      "cell_type": "code",
      "metadata": {
        "id": "Do0afeZH730g"
      },
      "source": [
        "df.dropna(subset=['Salary'],axis=0,inplace=True)"
      ],
      "execution_count": 33,
      "outputs": []
    },
    {
      "cell_type": "code",
      "metadata": {
        "id": "j8iIcriyYVIz"
      },
      "source": [
        "df['Hourly']=df['Salary'].apply(lambda x: 1 if 'per hour' in x.lower() else 0)"
      ],
      "execution_count": 34,
      "outputs": []
    },
    {
      "cell_type": "code",
      "metadata": {
        "id": "YdycJLLf28qD"
      },
      "source": [
        "\n",
        "df['Salary without $ and K']=df['Salary'].apply(lambda x: x.replace('$',' ').replace('K',' '))\n",
        "df['Salary without $ and K']=df['Salary without $ and K'].apply(lambda x: x.lower().replace('per hour',' '))"
      ],
      "execution_count": 35,
      "outputs": []
    },
    {
      "cell_type": "code",
      "metadata": {
        "id": "jZQKKexW2CZF"
      },
      "source": [
        "df['Min_Salary']=df['Salary without $ and K'].apply(lambda x: int(x.split('-')[0]))\n",
        "df['Max_Salary']=df['Salary without $ and K'].apply(lambda x: int(x.split('-')[1]) if '-' in x else int(x.split('-')[0]))\n",
        "df['Avg_Salary']=(df.Min_Salary+df.Max_Salary)/2"
      ],
      "execution_count": 36,
      "outputs": []
    },
    {
      "cell_type": "code",
      "metadata": {
        "id": "2dopea0LYA_D"
      },
      "source": [
        "#City parsing\n",
        "\n",
        "#variable state should be added, because it makes more sense to work with states instead of the cities"
      ],
      "execution_count": null,
      "outputs": []
    },
    {
      "cell_type": "code",
      "metadata": {
        "id": "45UF_V0jXJc6"
      },
      "source": [
        "df['State']=df['City'].apply(lambda x: x.split(',')[-1])"
      ],
      "execution_count": 37,
      "outputs": []
    },
    {
      "cell_type": "code",
      "metadata": {
        "id": "lTf6kAndZFp8"
      },
      "source": [
        "df=df.drop(['Unnamed: 0'],axis=1)"
      ],
      "execution_count": 38,
      "outputs": []
    },
    {
      "cell_type": "code",
      "metadata": {
        "id": "UBdCDzDtchHw"
      },
      "source": [
        "df.reset_index(drop=True,inplace=True)"
      ],
      "execution_count": 43,
      "outputs": []
    },
    {
      "cell_type": "code",
      "metadata": {
        "colab": {
          "base_uri": "https://localhost:8080/",
          "height": 204
        },
        "id": "dQe6V9ROa79S",
        "outputId": "61ffca0b-638d-4c8b-d887-efd24ce9f03c"
      },
      "source": [
        "df.head()"
      ],
      "execution_count": 44,
      "outputs": [
        {
          "output_type": "execute_result",
          "data": {
            "text/html": [
              "<div>\n",
              "<style scoped>\n",
              "    .dataframe tbody tr th:only-of-type {\n",
              "        vertical-align: middle;\n",
              "    }\n",
              "\n",
              "    .dataframe tbody tr th {\n",
              "        vertical-align: top;\n",
              "    }\n",
              "\n",
              "    .dataframe thead th {\n",
              "        text-align: right;\n",
              "    }\n",
              "</style>\n",
              "<table border=\"1\" class=\"dataframe\">\n",
              "  <thead>\n",
              "    <tr style=\"text-align: right;\">\n",
              "      <th></th>\n",
              "      <th>Title</th>\n",
              "      <th>City</th>\n",
              "      <th>Salary</th>\n",
              "      <th>Rating</th>\n",
              "      <th>Company</th>\n",
              "      <th>Hourly</th>\n",
              "      <th>Salary without $ and K</th>\n",
              "      <th>Min_Salary</th>\n",
              "      <th>Max_Salary</th>\n",
              "      <th>Avg_Salary</th>\n",
              "      <th>State</th>\n",
              "    </tr>\n",
              "  </thead>\n",
              "  <tbody>\n",
              "    <tr>\n",
              "      <th>0</th>\n",
              "      <td>DATA SCIENTIST-HEALTHCARE</td>\n",
              "      <td>Dayton, OH</td>\n",
              "      <td>$56K - $96K</td>\n",
              "      <td>3.6</td>\n",
              "      <td>Premier Health</td>\n",
              "      <td>0</td>\n",
              "      <td>56  -  96</td>\n",
              "      <td>56</td>\n",
              "      <td>96</td>\n",
              "      <td>76.0</td>\n",
              "      <td>OH</td>\n",
              "    </tr>\n",
              "    <tr>\n",
              "      <th>1</th>\n",
              "      <td>Data Scientist</td>\n",
              "      <td>Washington, DC</td>\n",
              "      <td>$78K - $150K</td>\n",
              "      <td>3.9</td>\n",
              "      <td>Deloitte</td>\n",
              "      <td>0</td>\n",
              "      <td>78  -  150</td>\n",
              "      <td>78</td>\n",
              "      <td>150</td>\n",
              "      <td>114.0</td>\n",
              "      <td>DC</td>\n",
              "    </tr>\n",
              "    <tr>\n",
              "      <th>2</th>\n",
              "      <td>Data Scientist</td>\n",
              "      <td>Lorton, VA</td>\n",
              "      <td>$120K</td>\n",
              "      <td>2.6</td>\n",
              "      <td>QinetiQ Inc.</td>\n",
              "      <td>0</td>\n",
              "      <td>120</td>\n",
              "      <td>120</td>\n",
              "      <td>120</td>\n",
              "      <td>120.0</td>\n",
              "      <td>VA</td>\n",
              "    </tr>\n",
              "    <tr>\n",
              "      <th>3</th>\n",
              "      <td>Data Scientist with TS Clearance</td>\n",
              "      <td>Arlington, VA</td>\n",
              "      <td>$86K - $154K</td>\n",
              "      <td>3.9</td>\n",
              "      <td>Deloitte</td>\n",
              "      <td>0</td>\n",
              "      <td>86  -  154</td>\n",
              "      <td>86</td>\n",
              "      <td>154</td>\n",
              "      <td>120.0</td>\n",
              "      <td>VA</td>\n",
              "    </tr>\n",
              "    <tr>\n",
              "      <th>4</th>\n",
              "      <td>Data Scientist Principal</td>\n",
              "      <td>Hagerstown, MD</td>\n",
              "      <td>$73K - $137K</td>\n",
              "      <td>4.0</td>\n",
              "      <td>JLG Equipment Services Inc</td>\n",
              "      <td>0</td>\n",
              "      <td>73  -  137</td>\n",
              "      <td>73</td>\n",
              "      <td>137</td>\n",
              "      <td>105.0</td>\n",
              "      <td>MD</td>\n",
              "    </tr>\n",
              "  </tbody>\n",
              "</table>\n",
              "</div>"
            ],
            "text/plain": [
              "                              Title            City  ... Avg_Salary  State\n",
              "0         DATA SCIENTIST-HEALTHCARE      Dayton, OH  ...       76.0     OH\n",
              "1                    Data Scientist  Washington, DC  ...      114.0     DC\n",
              "2                    Data Scientist      Lorton, VA  ...      120.0     VA\n",
              "3  Data Scientist with TS Clearance   Arlington, VA  ...      120.0     VA\n",
              "4          Data Scientist Principal  Hagerstown, MD  ...      105.0     MD\n",
              "\n",
              "[5 rows x 11 columns]"
            ]
          },
          "metadata": {
            "tags": []
          },
          "execution_count": 44
        }
      ]
    },
    {
      "cell_type": "code",
      "metadata": {
        "id": "krrq31KbbKsA"
      },
      "source": [
        "df.to_csv('glassdoor_data_cleaned.csv')"
      ],
      "execution_count": 46,
      "outputs": []
    },
    {
      "cell_type": "code",
      "metadata": {
        "id": "jzTI3Lrbb2WU"
      },
      "source": [
        ""
      ],
      "execution_count": null,
      "outputs": []
    }
  ]
}