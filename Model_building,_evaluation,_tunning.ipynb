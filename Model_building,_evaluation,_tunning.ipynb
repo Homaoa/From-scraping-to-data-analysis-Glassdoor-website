{
  "nbformat": 4,
  "nbformat_minor": 0,
  "metadata": {
    "colab": {
      "name": "Model building, evaluation, tunning.ipynb",
      "provenance": [],
      "collapsed_sections": [],
      "authorship_tag": "ABX9TyN7layXdJbdxEemNzQMayMD",
      "include_colab_link": true
    },
    "kernelspec": {
      "name": "python3",
      "display_name": "Python 3"
    },
    "language_info": {
      "name": "python"
    }
  },
  "cells": [
    {
      "cell_type": "markdown",
      "metadata": {
        "id": "view-in-github",
        "colab_type": "text"
      },
      "source": [
        "<a href=\"https://colab.research.google.com/github/Homaoa/From-scraping-to-data-analysis-Glassdoor-website/blob/main/Model_building%2C_evaluation%2C_tunning.ipynb\" target=\"_parent\"><img src=\"https://colab.research.google.com/assets/colab-badge.svg\" alt=\"Open In Colab\"/></a>"
      ]
    },
    {
      "cell_type": "code",
      "metadata": {
        "id": "RHHE3oNhsb3f"
      },
      "source": [
        "import pandas as pd\n",
        "import matplotlib.pyplot as plt\n",
        "import numpy as np\n"
      ],
      "execution_count": 2,
      "outputs": []
    },
    {
      "cell_type": "code",
      "metadata": {
        "id": "X_tku7tftX7H"
      },
      "source": [
        "url='/content/glassdoor_data_cleaned.csv'\n",
        "df=pd.read_csv(url)\n",
        "df=df.drop(['Unnamed: 0'],axis=1)"
      ],
      "execution_count": 3,
      "outputs": []
    },
    {
      "cell_type": "code",
      "metadata": {
        "id": "YM4x-D_Btuu-"
      },
      "source": [
        "df.columns"
      ],
      "execution_count": null,
      "outputs": []
    },
    {
      "cell_type": "code",
      "metadata": {
        "id": "ui4QZQE6u4D3"
      },
      "source": [
        "df_model=df[['Avg_Salary','Rating','Title Simp','Hourly','Seniority','State']]"
      ],
      "execution_count": 4,
      "outputs": []
    },
    {
      "cell_type": "code",
      "metadata": {
        "id": "O1JRtlZQw77z"
      },
      "source": [
        "df_dum=pd.get_dummies(df_model)\n",
        "df_dum.head()"
      ],
      "execution_count": null,
      "outputs": []
    },
    {
      "cell_type": "code",
      "metadata": {
        "id": "wuERj-72xVWD"
      },
      "source": [
        "# train test split \n",
        "from sklearn.model_selection import train_test_split\n",
        "\n",
        "x=df_dum.drop('Avg_Salary',axis=1)\n",
        "y=df_dum['Avg_Salary']\n",
        "x_train,x_test,y_train,y_test=train_test_split(x,y,test_size=0.2)"
      ],
      "execution_count": 6,
      "outputs": []
    },
    {
      "cell_type": "code",
      "metadata": {
        "id": "P-9oQ1P9FKMF"
      },
      "source": [
        "# multiple linear regression "
      ],
      "execution_count": null,
      "outputs": []
    },
    {
      "cell_type": "code",
      "metadata": {
        "id": "fzVbgIqu1Oyw"
      },
      "source": [
        "import statsmodels.api as sm\n",
        "x_sm = x = sm.add_constant(x)\n",
        "model = sm.OLS(y,x_sm)\n",
        "model.fit().summary()"
      ],
      "execution_count": null,
      "outputs": []
    },
    {
      "cell_type": "code",
      "metadata": {
        "id": "t293NIst2Lws"
      },
      "source": [
        "from sklearn.linear_model import LinearRegression, Lasso\n",
        "from sklearn.model_selection import cross_val_score\n",
        "\n",
        "lm = LinearRegression()\n",
        "lm.fit(x_train, y_train)\n",
        "\n",
        "Rcross=cross_val_score(lm,x_train,y_train, cv= 4)\n",
        "Rcross.mean()"
      ],
      "execution_count": null,
      "outputs": []
    },
    {
      "cell_type": "code",
      "metadata": {
        "id": "veiWqyPOF3g1"
      },
      "source": [
        "# lasso regression"
      ],
      "execution_count": null,
      "outputs": []
    },
    {
      "cell_type": "code",
      "metadata": {
        "id": "SwwyhiIKH_n2"
      },
      "source": [
        "lm_l=Lasso(alpha=0.18)\n",
        "lm_l.fit(x_train,y_train)\n",
        "Rcross=cross_val_score(lm_l,x_train,y_train,cv=4)\n",
        "Rcross.mean()"
      ],
      "execution_count": null,
      "outputs": []
    },
    {
      "cell_type": "code",
      "metadata": {
        "colab": {
          "base_uri": "https://localhost:8080/",
          "height": 282
        },
        "id": "Rczu5y38IZql",
        "outputId": "246f1214-e829-4993-ee9b-70f41bbd4db8"
      },
      "source": [
        "alpha=[]\n",
        "rcross=[]\n",
        "for i in range(1,100):\n",
        "  alpha.append(i/100)\n",
        "  lml=Lasso(alpha=(i/100))\n",
        "  rcross.append(np.mean(cross_val_score(lml,x_train,y_train,cv=4)))\n",
        "plt.plot(alpha,rcross)"
      ],
      "execution_count": null,
      "outputs": [
        {
          "output_type": "execute_result",
          "data": {
            "text/plain": [
              "[<matplotlib.lines.Line2D at 0x7f30e24df610>]"
            ]
          },
          "metadata": {
            "tags": []
          },
          "execution_count": 12
        },
        {
          "output_type": "display_data",
          "data": {
            "image/png": "[encoded data removed]",
            "text/plain": [
              "<Figure size 432x288 with 1 Axes>"
            ]
          },
          "metadata": {
            "tags": [],
            "needs_background": "light"
          }
        }
      ]
    },
    {
      "cell_type": "code",
      "metadata": {
        "id": "YCNvSS58L6EZ"
      },
      "source": [
        "#best alpha for this model is achived"
      ],
      "execution_count": null,
      "outputs": []
    },
    {
      "cell_type": "code",
      "metadata": {
        "id": "0gJB79e_P1Sv"
      },
      "source": [
        "#polynomial model"
      ],
      "execution_count": null,
      "outputs": []
    },
    {
      "cell_type": "code",
      "metadata": {
        "id": "PW_X5Gb_L0R5"
      },
      "source": [
        "from sklearn.preprocessing import PolynomialFeatures\n",
        "from sklearn.linear_model import LinearRegression\n",
        "from sklearn.preprocessing import StandardScaler\n",
        "from sklearn.pipeline import Pipeline\n",
        "\n",
        "input=[('scale',StandardScaler()),('polynomial',PolynomialFeatures(degree=3)),('model',LinearRegression())]\n",
        "\n",
        "pipe=Pipeline(input)\n",
        "pipe.fit(x_train,y_train)\n",
        "Rcross=cross_val_score(pipe,x_train,y_train,cv=4)\n",
        "Rcross.mean()"
      ],
      "execution_count": null,
      "outputs": []
    },
    {
      "cell_type": "code",
      "metadata": {
        "id": "8xN8BNuKxgAo"
      },
      "source": [
        "degree=[]\n",
        "rcross=[]\n",
        "for i in range(1,10):\n",
        "  degree.append(i)\n",
        "  input=[('scale',StandardScaler()),('polynomial',PolynomialFeatures(degree=i)),('model',LinearRegression())]\n",
        "  pipe1=Pipeline(input)\n",
        "  rcross.append(np.mean(cross_val_score(pipe1,x_train,y_train,cv=4)))\n",
        "plt.plot(degree,rcross)"
      ],
      "execution_count": null,
      "outputs": []
    },
    {
      "cell_type": "code",
      "metadata": {
        "id": "cMbw9LUhAEr4"
      },
      "source": [
        "#the best degree for this polynomial model is obtained"
      ],
      "execution_count": null,
      "outputs": []
    },
    {
      "cell_type": "code",
      "metadata": {
        "id": "gYiDvfXsKwJ_"
      },
      "source": [
        "# random forest plus tunning"
      ],
      "execution_count": null,
      "outputs": []
    },
    {
      "cell_type": "code",
      "metadata": {
        "id": "LVK4159qZgby"
      },
      "source": [
        "from sklearn.ensemble import RandomForestRegressor\n",
        "rf = RandomForestRegressor()\n",
        "\n",
        "Rscore=cross_val_score(rf,x_train,y_train,cv= 4)\n",
        "Rscore.mean()"
      ],
      "execution_count": null,
      "outputs": []
    },
    {
      "cell_type": "code",
      "metadata": {
        "colab": {
          "base_uri": "https://localhost:8080/"
        },
        "id": "i-sBJAqw5abe",
        "outputId": "a50a87e0-45fc-46c7-b02c-f5d28d9087a0"
      },
      "source": [
        "from sklearn.model_selection import GridSearchCV\n",
        "parameters = {'n_estimators':range(10,300,10), 'max_features':('auto','sqrt','log2')}\n",
        "\n",
        "gs = GridSearchCV(rf,parameters,cv=4)\n",
        "gs.fit(x_train,y_train)\n",
        "\n",
        "gs.best_score_\n",
        "gs.best_estimator_"
      ],
      "execution_count": 15,
      "outputs": [
        {
          "output_type": "execute_result",
          "data": {
            "text/plain": [
              "RandomForestRegressor(bootstrap=True, ccp_alpha=0.0, criterion='mse',\n",
              "                      max_depth=None, max_features='sqrt', max_leaf_nodes=None,\n",
              "                      max_samples=None, min_impurity_decrease=0.0,\n",
              "                      min_impurity_split=None, min_samples_leaf=1,\n",
              "                      min_samples_split=2, min_weight_fraction_leaf=0.0,\n",
              "                      n_estimators=220, n_jobs=None, oob_score=False,\n",
              "                      random_state=None, verbose=0, warm_start=False)"
            ]
          },
          "metadata": {
            "tags": []
          },
          "execution_count": 15
        }
      ]
    },
    {
      "cell_type": "code",
      "metadata": {
        "id": "IxPVEFHuExsu"
      },
      "source": [
        "#random forest has the best result"
      ],
      "execution_count": null,
      "outputs": []
    },
    {
      "cell_type": "code",
      "metadata": {
        "id": "ib3q1WfE_3D3"
      },
      "source": [
        "# test ensembles "
      ],
      "execution_count": null,
      "outputs": []
    },
    {
      "cell_type": "code",
      "metadata": {
        "id": "450lJJDoAuWx"
      },
      "source": [
        "tpred_lm = lm.predict(x_test)\n",
        "tpred_lml = lm_l.predict(x_test)\n",
        "tpred_pipe=pipe.predict(x_test)\n",
        "tpred_rf = gs.best_estimator_.predict(x_test)"
      ],
      "execution_count": 20,
      "outputs": []
    },
    {
      "cell_type": "code",
      "metadata": {
        "id": "3xTmM8deDNYl"
      },
      "source": [
        "from sklearn.metrics import r2_score\n",
        "\n",
        "print(r2_score(y_test,tpred_lm))\n",
        "print(r2_score(y_test,tpred_lml))\n",
        "print(r2_score(y_test,tpred_pipe))\n",
        "print(r2_score(y_test,tpred_rf))\n"
      ],
      "execution_count": null,
      "outputs": []
    }
  ]
}