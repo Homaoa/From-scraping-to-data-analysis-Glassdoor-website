{
  "nbformat": 4,
  "nbformat_minor": 0,
  "metadata": {
    "colab": {
      "name": "EDA.ipynb",
      "provenance": [],
      "collapsed_sections": [],
      "authorship_tag": "ABX9TyOQhYW3NHF16KlJ9V7oe2uf",
      "include_colab_link": true
    },
    "kernelspec": {
      "name": "python3",
      "display_name": "Python 3"
    },
    "language_info": {
      "name": "python"
    }
  },
  "cells": [
    {
      "cell_type": "markdown",
      "metadata": {
        "id": "view-in-github",
        "colab_type": "text"
      },
      "source": [
        "<a href=\"https://colab.research.google.com/github/Homaoa/From-scraping-to-data-analysis-Glassdoor-website/blob/main/EDA.ipynb\" target=\"_parent\"><img src=\"https://colab.research.google.com/assets/colab-badge.svg\" alt=\"Open In Colab\"/></a>"
      ]
    },
    {
      "cell_type": "code",
      "metadata": {
        "id": "lUzgEjahgMwb"
      },
      "source": [
        "import pandas as pd\n",
        "import matplotlib.pyplot as plt\n",
        "import seaborn as sns"
      ],
      "execution_count": 14,
      "outputs": []
    },
    {
      "cell_type": "code",
      "metadata": {
        "colab": {
          "base_uri": "https://localhost:8080/",
          "height": 204
        },
        "id": "D7lOml0EgUIq",
        "outputId": "23bd031e-8156-432f-9377-d010c875c869"
      },
      "source": [
        "url='/content/glassdoor_data_cleaned.csv'\n",
        "df=pd.read_csv(url)\n",
        "df=df.drop(['Unnamed: 0'],axis=1)\n",
        "df.head()"
      ],
      "execution_count": 18,
      "outputs": [
        {
          "output_type": "execute_result",
          "data": {
            "text/html": [
              "<div>\n",
              "<style scoped>\n",
              "    .dataframe tbody tr th:only-of-type {\n",
              "        vertical-align: middle;\n",
              "    }\n",
              "\n",
              "    .dataframe tbody tr th {\n",
              "        vertical-align: top;\n",
              "    }\n",
              "\n",
              "    .dataframe thead th {\n",
              "        text-align: right;\n",
              "    }\n",
              "</style>\n",
              "<table border=\"1\" class=\"dataframe\">\n",
              "  <thead>\n",
              "    <tr style=\"text-align: right;\">\n",
              "      <th></th>\n",
              "      <th>Title</th>\n",
              "      <th>City</th>\n",
              "      <th>Salary</th>\n",
              "      <th>Rating</th>\n",
              "      <th>Company</th>\n",
              "      <th>Hourly</th>\n",
              "      <th>Salary without $ and K</th>\n",
              "      <th>Min_Salary</th>\n",
              "      <th>Max_Salary</th>\n",
              "      <th>Avg_Salary</th>\n",
              "      <th>State</th>\n",
              "      <th>Title Simp</th>\n",
              "      <th>Seniority</th>\n",
              "    </tr>\n",
              "  </thead>\n",
              "  <tbody>\n",
              "    <tr>\n",
              "      <th>0</th>\n",
              "      <td>DATA SCIENTIST-HEALTHCARE</td>\n",
              "      <td>Dayton, OH</td>\n",
              "      <td>$56K - $96K</td>\n",
              "      <td>3.6</td>\n",
              "      <td>Premier Health</td>\n",
              "      <td>0</td>\n",
              "      <td>56  -  96</td>\n",
              "      <td>56</td>\n",
              "      <td>96</td>\n",
              "      <td>76.0</td>\n",
              "      <td>OH</td>\n",
              "      <td>data scientist</td>\n",
              "      <td>na</td>\n",
              "    </tr>\n",
              "    <tr>\n",
              "      <th>1</th>\n",
              "      <td>Data Scientist</td>\n",
              "      <td>Washington, DC</td>\n",
              "      <td>$78K - $150K</td>\n",
              "      <td>3.9</td>\n",
              "      <td>Deloitte</td>\n",
              "      <td>0</td>\n",
              "      <td>78  -  150</td>\n",
              "      <td>78</td>\n",
              "      <td>150</td>\n",
              "      <td>114.0</td>\n",
              "      <td>DC</td>\n",
              "      <td>data scientist</td>\n",
              "      <td>na</td>\n",
              "    </tr>\n",
              "    <tr>\n",
              "      <th>2</th>\n",
              "      <td>Data Scientist</td>\n",
              "      <td>Lorton, VA</td>\n",
              "      <td>$120K</td>\n",
              "      <td>2.6</td>\n",
              "      <td>QinetiQ Inc.</td>\n",
              "      <td>0</td>\n",
              "      <td>120</td>\n",
              "      <td>120</td>\n",
              "      <td>120</td>\n",
              "      <td>120.0</td>\n",
              "      <td>VA</td>\n",
              "      <td>data scientist</td>\n",
              "      <td>na</td>\n",
              "    </tr>\n",
              "    <tr>\n",
              "      <th>3</th>\n",
              "      <td>Data Scientist with TS Clearance</td>\n",
              "      <td>Arlington, VA</td>\n",
              "      <td>$86K - $154K</td>\n",
              "      <td>3.9</td>\n",
              "      <td>Deloitte</td>\n",
              "      <td>0</td>\n",
              "      <td>86  -  154</td>\n",
              "      <td>86</td>\n",
              "      <td>154</td>\n",
              "      <td>120.0</td>\n",
              "      <td>VA</td>\n",
              "      <td>data scientist</td>\n",
              "      <td>na</td>\n",
              "    </tr>\n",
              "    <tr>\n",
              "      <th>4</th>\n",
              "      <td>Data Scientist Principal</td>\n",
              "      <td>Hagerstown, MD</td>\n",
              "      <td>$73K - $137K</td>\n",
              "      <td>4.0</td>\n",
              "      <td>JLG Equipment Services Inc</td>\n",
              "      <td>0</td>\n",
              "      <td>73  -  137</td>\n",
              "      <td>73</td>\n",
              "      <td>137</td>\n",
              "      <td>105.0</td>\n",
              "      <td>MD</td>\n",
              "      <td>data scientist</td>\n",
              "      <td>sr</td>\n",
              "    </tr>\n",
              "  </tbody>\n",
              "</table>\n",
              "</div>"
            ],
            "text/plain": [
              "                              Title            City  ...      Title Simp  Seniority\n",
              "0         DATA SCIENTIST-HEALTHCARE      Dayton, OH  ...  data scientist         na\n",
              "1                    Data Scientist  Washington, DC  ...  data scientist         na\n",
              "2                    Data Scientist      Lorton, VA  ...  data scientist         na\n",
              "3  Data Scientist with TS Clearance   Arlington, VA  ...  data scientist         na\n",
              "4          Data Scientist Principal  Hagerstown, MD  ...  data scientist         sr\n",
              "\n",
              "[5 rows x 13 columns]"
            ]
          },
          "metadata": {
            "tags": []
          },
          "execution_count": 18
        }
      ]
    },
    {
      "cell_type": "code",
      "metadata": {
        "id": "J_lEy-Upgz8b",
        "colab": {
          "base_uri": "https://localhost:8080/"
        },
        "outputId": "48e7cc63-5930-4afa-f718-97cbd6b57957"
      },
      "source": [
        "df.columns"
      ],
      "execution_count": 16,
      "outputs": [
        {
          "output_type": "execute_result",
          "data": {
            "text/plain": [
              "Index(['Title', 'City', 'Salary', 'Rating', 'Company', 'Hourly',\n",
              "       'Salary without $ and K', 'Min_Salary', 'Max_Salary', 'Avg_Salary',\n",
              "       'State', 'Title Simp', 'Seniority'],\n",
              "      dtype='object')"
            ]
          },
          "metadata": {
            "tags": []
          },
          "execution_count": 16
        }
      ]
    },
    {
      "cell_type": "code",
      "metadata": {
        "colab": {
          "base_uri": "https://localhost:8080/",
          "height": 297
        },
        "id": "UphcYoGHDd3J",
        "outputId": "ec706fc0-87a8-4387-ad69-3f508eb997c2"
      },
      "source": [
        "df.describe()"
      ],
      "execution_count": 19,
      "outputs": [
        {
          "output_type": "execute_result",
          "data": {
            "text/html": [
              "<div>\n",
              "<style scoped>\n",
              "    .dataframe tbody tr th:only-of-type {\n",
              "        vertical-align: middle;\n",
              "    }\n",
              "\n",
              "    .dataframe tbody tr th {\n",
              "        vertical-align: top;\n",
              "    }\n",
              "\n",
              "    .dataframe thead th {\n",
              "        text-align: right;\n",
              "    }\n",
              "</style>\n",
              "<table border=\"1\" class=\"dataframe\">\n",
              "  <thead>\n",
              "    <tr style=\"text-align: right;\">\n",
              "      <th></th>\n",
              "      <th>Rating</th>\n",
              "      <th>Hourly</th>\n",
              "      <th>Min_Salary</th>\n",
              "      <th>Max_Salary</th>\n",
              "      <th>Avg_Salary</th>\n",
              "    </tr>\n",
              "  </thead>\n",
              "  <tbody>\n",
              "    <tr>\n",
              "      <th>count</th>\n",
              "      <td>465.000000</td>\n",
              "      <td>544.000000</td>\n",
              "      <td>544.000000</td>\n",
              "      <td>544.000000</td>\n",
              "      <td>544.000000</td>\n",
              "    </tr>\n",
              "    <tr>\n",
              "      <th>mean</th>\n",
              "      <td>3.842796</td>\n",
              "      <td>0.040441</td>\n",
              "      <td>77.450368</td>\n",
              "      <td>128.531250</td>\n",
              "      <td>102.990809</td>\n",
              "    </tr>\n",
              "    <tr>\n",
              "      <th>std</th>\n",
              "      <td>0.552070</td>\n",
              "      <td>0.197173</td>\n",
              "      <td>33.103795</td>\n",
              "      <td>53.591482</td>\n",
              "      <td>42.168182</td>\n",
              "    </tr>\n",
              "    <tr>\n",
              "      <th>min</th>\n",
              "      <td>1.700000</td>\n",
              "      <td>0.000000</td>\n",
              "      <td>28.000000</td>\n",
              "      <td>34.000000</td>\n",
              "      <td>34.000000</td>\n",
              "    </tr>\n",
              "    <tr>\n",
              "      <th>25%</th>\n",
              "      <td>3.500000</td>\n",
              "      <td>0.000000</td>\n",
              "      <td>60.000000</td>\n",
              "      <td>103.000000</td>\n",
              "      <td>82.375000</td>\n",
              "    </tr>\n",
              "    <tr>\n",
              "      <th>50%</th>\n",
              "      <td>3.800000</td>\n",
              "      <td>0.000000</td>\n",
              "      <td>72.000000</td>\n",
              "      <td>125.000000</td>\n",
              "      <td>99.000000</td>\n",
              "    </tr>\n",
              "    <tr>\n",
              "      <th>75%</th>\n",
              "      <td>4.200000</td>\n",
              "      <td>0.000000</td>\n",
              "      <td>89.000000</td>\n",
              "      <td>145.250000</td>\n",
              "      <td>118.125000</td>\n",
              "    </tr>\n",
              "    <tr>\n",
              "      <th>max</th>\n",
              "      <td>5.000000</td>\n",
              "      <td>1.000000</td>\n",
              "      <td>250.000000</td>\n",
              "      <td>450.000000</td>\n",
              "      <td>350.000000</td>\n",
              "    </tr>\n",
              "  </tbody>\n",
              "</table>\n",
              "</div>"
            ],
            "text/plain": [
              "           Rating      Hourly  Min_Salary  Max_Salary  Avg_Salary\n",
              "count  465.000000  544.000000  544.000000  544.000000  544.000000\n",
              "mean     3.842796    0.040441   77.450368  128.531250  102.990809\n",
              "std      0.552070    0.197173   33.103795   53.591482   42.168182\n",
              "min      1.700000    0.000000   28.000000   34.000000   34.000000\n",
              "25%      3.500000    0.000000   60.000000  103.000000   82.375000\n",
              "50%      3.800000    0.000000   72.000000  125.000000   99.000000\n",
              "75%      4.200000    0.000000   89.000000  145.250000  118.125000\n",
              "max      5.000000    1.000000  250.000000  450.000000  350.000000"
            ]
          },
          "metadata": {
            "tags": []
          },
          "execution_count": 19
        }
      ]
    },
    {
      "cell_type": "code",
      "metadata": {
        "colab": {
          "base_uri": "https://localhost:8080/",
          "height": 282
        },
        "id": "lfr6OwmGDfXK",
        "outputId": "828e3819-ad49-48cf-8786-173716ef4b2f"
      },
      "source": [
        "df['Rating'].hist()"
      ],
      "execution_count": 20,
      "outputs": [
        {
          "output_type": "execute_result",
          "data": {
            "text/plain": [
              "<matplotlib.axes._subplots.AxesSubplot at 0x7eff2fd8de90>"
            ]
          },
          "metadata": {
            "tags": []
          },
          "execution_count": 20
        },
        {
          "output_type": "display_data",
          "data": {
            "image/png": "[encoded data removed]",
            "text/plain": [
              "<Figure size 432x288 with 1 Axes>"
            ]
          },
          "metadata": {
            "tags": [],
            "needs_background": "light"
          }
        }
      ]
    },
    {
      "cell_type": "code",
      "metadata": {
        "colab": {
          "base_uri": "https://localhost:8080/",
          "height": 282
        },
        "id": "uInczZdiENY2",
        "outputId": "56e73271-8f8e-4981-eacd-762d84437b16"
      },
      "source": [
        "df['Avg_Salary'].hist()"
      ],
      "execution_count": 21,
      "outputs": [
        {
          "output_type": "execute_result",
          "data": {
            "text/plain": [
              "<matplotlib.axes._subplots.AxesSubplot at 0x7eff2f875110>"
            ]
          },
          "metadata": {
            "tags": []
          },
          "execution_count": 21
        },
        {
          "output_type": "display_data",
          "data": {
            "image/png": "[encoded data removed]",
            "text/plain": [
              "<Figure size 432x288 with 1 Axes>"
            ]
          },
          "metadata": {
            "tags": [],
            "needs_background": "light"
          }
        }
      ]
    },
    {
      "cell_type": "code",
      "metadata": {
        "colab": {
          "base_uri": "https://localhost:8080/",
          "height": 283
        },
        "id": "wn7FGl1CFuLV",
        "outputId": "91f06a7b-0580-47a2-997a-d7a1599f4934"
      },
      "source": [
        "df.boxplot(column='Avg_Salary')"
      ],
      "execution_count": 33,
      "outputs": [
        {
          "output_type": "execute_result",
          "data": {
            "text/plain": [
              "<matplotlib.axes._subplots.AxesSubplot at 0x7eff2f0a7710>"
            ]
          },
          "metadata": {
            "tags": []
          },
          "execution_count": 33
        },
        {
          "output_type": "display_data",
          "data": {
            "image/png": "[encoded data removed]",
            "text/plain": [
              "<Figure size 432x288 with 1 Axes>"
            ]
          },
          "metadata": {
            "tags": [],
            "needs_background": "light"
          }
        }
      ]
    },
    {
      "cell_type": "code",
      "metadata": {
        "colab": {
          "base_uri": "https://localhost:8080/",
          "height": 282
        },
        "id": "hg82LEVuIQtn",
        "outputId": "9e53731b-3ff3-4fa0-f441-28b995eb63ce"
      },
      "source": [
        "df.boxplot(column='Rating')"
      ],
      "execution_count": 34,
      "outputs": [
        {
          "output_type": "execute_result",
          "data": {
            "text/plain": [
              "<matplotlib.axes._subplots.AxesSubplot at 0x7eff2f009690>"
            ]
          },
          "metadata": {
            "tags": []
          },
          "execution_count": 34
        },
        {
          "output_type": "display_data",
          "data": {
            "image/png": "[encoded data removed]",
            "text/plain": [
              "<Figure size 432x288 with 1 Axes>"
            ]
          },
          "metadata": {
            "tags": [],
            "needs_background": "light"
          }
        }
      ]
    },
    {
      "cell_type": "code",
      "metadata": {
        "id": "j1UXZWs3H6uN"
      },
      "source": [
        "#there is outliers in avg_salary and rating"
      ],
      "execution_count": 32,
      "outputs": []
    },
    {
      "cell_type": "code",
      "metadata": {
        "id": "fqQIJyyoIj_w"
      },
      "source": [
        "#now that we looked at those two variables seperately, we want to check the  corelation between the continous variables"
      ],
      "execution_count": null,
      "outputs": []
    },
    {
      "cell_type": "code",
      "metadata": {
        "colab": {
          "base_uri": "https://localhost:8080/",
          "height": 359
        },
        "id": "8bRvVFO8EWWs",
        "outputId": "9c041a4a-f7f5-49ee-e8cd-d0b923636b7c"
      },
      "source": [
        "plt.scatter(df['Rating'],df['Avg_Salary'])\n",
        "df[['Rating','Avg_Salary']].corr()"
      ],
      "execution_count": 35,
      "outputs": [
        {
          "output_type": "execute_result",
          "data": {
            "text/html": [
              "<div>\n",
              "<style scoped>\n",
              "    .dataframe tbody tr th:only-of-type {\n",
              "        vertical-align: middle;\n",
              "    }\n",
              "\n",
              "    .dataframe tbody tr th {\n",
              "        vertical-align: top;\n",
              "    }\n",
              "\n",
              "    .dataframe thead th {\n",
              "        text-align: right;\n",
              "    }\n",
              "</style>\n",
              "<table border=\"1\" class=\"dataframe\">\n",
              "  <thead>\n",
              "    <tr style=\"text-align: right;\">\n",
              "      <th></th>\n",
              "      <th>Rating</th>\n",
              "      <th>Avg_Salary</th>\n",
              "    </tr>\n",
              "  </thead>\n",
              "  <tbody>\n",
              "    <tr>\n",
              "      <th>Rating</th>\n",
              "      <td>1.000000</td>\n",
              "      <td>0.282104</td>\n",
              "    </tr>\n",
              "    <tr>\n",
              "      <th>Avg_Salary</th>\n",
              "      <td>0.282104</td>\n",
              "      <td>1.000000</td>\n",
              "    </tr>\n",
              "  </tbody>\n",
              "</table>\n",
              "</div>"
            ],
            "text/plain": [
              "              Rating  Avg_Salary\n",
              "Rating      1.000000    0.282104\n",
              "Avg_Salary  0.282104    1.000000"
            ]
          },
          "metadata": {
            "tags": []
          },
          "execution_count": 35
        },
        {
          "output_type": "display_data",
          "data": {
            "image/png": "[encoded data removed]",
            "text/plain": [
              "<Figure size 432x288 with 1 Axes>"
            ]
          },
          "metadata": {
            "tags": [],
            "needs_background": "light"
          }
        }
      ]
    },
    {
      "cell_type": "code",
      "metadata": {
        "id": "l7iimbUkIdNW"
      },
      "source": [
        "#now we check the categorical variables"
      ],
      "execution_count": 36,
      "outputs": []
    },
    {
      "cell_type": "code",
      "metadata": {
        "id": "96rSR9GJLuaP"
      },
      "source": [
        "df_cat=df[['Company','City', 'Hourly',\n",
        "       'State', 'Title Simp', 'Seniority']]"
      ],
      "execution_count": 52,
      "outputs": []
    },
    {
      "cell_type": "code",
      "metadata": {
        "colab": {
          "base_uri": "https://localhost:8080/",
          "height": 1000
        },
        "id": "9kEGRkkxMtMD",
        "outputId": "5dd97adc-9e75-4417-d0ae-e143457a16ee"
      },
      "source": [
        "#we make a simple bar chart for each categorical variable\n",
        "for i in df_cat.columns:\n",
        "  num=df_cat[i].value_counts()\n",
        "  print('\\n Graph for '+str(i)+' : total= '+str(len(num)))\n",
        "  chart=sns.barplot(x=num.index,y=num)\n",
        "  chart.set_xticklabels(chart.get_xticklabels(),rotation=90)\n",
        "  plt.show()"
      ],
      "execution_count": 53,
      "outputs": [
        {
          "output_type": "stream",
          "text": [
            "\n",
            " Graph for Company : total= 360\n"
          ],
          "name": "stdout"
        },
        {
          "output_type": "display_data",
          "data": {
            "image/png": "[encoded data removed]",
            "text/plain": [
              "<Figure size 432x288 with 1 Axes>"
            ]
          },
          "metadata": {
            "tags": [],
            "needs_background": "light"
          }
        },
        {
          "output_type": "stream",
          "text": [
            "\n",
            " Graph for City : total= 213\n"
          ],
          "name": "stdout"
        },
        {
          "output_type": "display_data",
          "data": {
            "image/png": "[encoded data removed]",
            "text/plain": [
              "<Figure size 432x288 with 1 Axes>"
            ]
          },
          "metadata": {
            "tags": [],
            "needs_background": "light"
          }
        },
        {
          "output_type": "stream",
          "text": [
            "\n",
            " Graph for Hourly : total= 2\n"
          ],
          "name": "stdout"
        },
        {
          "output_type": "display_data",
          "data": {
            "image/png": "[encoded data removed]",
            "text/plain": [
              "<Figure size 432x288 with 1 Axes>"
            ]
          },
          "metadata": {
            "tags": [],
            "needs_background": "light"
          }
        },
        {
          "output_type": "stream",
          "text": [
            "\n",
            " Graph for State : total= 45\n"
          ],
          "name": "stdout"
        },
        {
          "output_type": "display_data",
          "data": {
            "image/png": "[encoded data removed]",
            "text/plain": [
              "<Figure size 432x288 with 1 Axes>"
            ]
          },
          "metadata": {
            "tags": [],
            "needs_background": "light"
          }
        },
        {
          "output_type": "stream",
          "text": [
            "\n",
            " Graph for Title Simp : total= 7\n"
          ],
          "name": "stdout"
        },
        {
          "output_type": "display_data",
          "data": {
            "image/png": "[encoded data removed]",
            "text/plain": [
              "<Figure size 432x288 with 1 Axes>"
            ]
          },
          "metadata": {
            "tags": [],
            "needs_background": "light"
          }
        },
        {
          "output_type": "stream",
          "text": [
            "\n",
            " Graph for Seniority : total= 3\n"
          ],
          "name": "stdout"
        },
        {
          "output_type": "display_data",
          "data": {
            "image/png": "[encoded data removed]",
            "text/plain": [
              "<Figure size 432x288 with 1 Axes>"
            ]
          },
          "metadata": {
            "tags": [],
            "needs_background": "light"
          }
        }
      ]
    },
    {
      "cell_type": "code",
      "metadata": {
        "colab": {
          "base_uri": "https://localhost:8080/",
          "height": 1000
        },
        "id": "pA4f1IIKNuoc",
        "outputId": "90e4fa62-54c8-47bd-c494-3ccab57c3de7"
      },
      "source": [
        "for i in df_cat[['Company','City','State']].columns:\n",
        "  num=df_cat[i].value_counts()[:25]\n",
        "  print('\\n Graph for '+str(i)+' : total= '+str(len(num)))\n",
        "  chart=sns.barplot(x=num.index,y=num)\n",
        "  chart.set_xticklabels(chart.get_xticklabels(),rotation=90)\n",
        "  plt.show()"
      ],
      "execution_count": 55,
      "outputs": [
        {
          "output_type": "stream",
          "text": [
            "\n",
            " Graph for Company : total= 25\n"
          ],
          "name": "stdout"
        },
        {
          "output_type": "display_data",
          "data": {
            "image/png": "[encoded data removed]",
            "text/plain": [
              "<Figure size 432x288 with 1 Axes>"
            ]
          },
          "metadata": {
            "tags": [],
            "needs_background": "light"
          }
        },
        {
          "output_type": "stream",
          "text": [
            "\n",
            " Graph for City : total= 25\n"
          ],
          "name": "stdout"
        },
        {
          "output_type": "display_data",
          "data": {
            "image/png": "[encoded data removed]",
            "text/plain": [
              "<Figure size 432x288 with 1 Axes>"
            ]
          },
          "metadata": {
            "tags": [],
            "needs_background": "light"
          }
        },
        {
          "output_type": "stream",
          "text": [
            "\n",
            " Graph for State : total= 25\n"
          ],
          "name": "stdout"
        },
        {
          "output_type": "display_data",
          "data": {
            "image/png": "[encoded data removed]",
            "text/plain": [
              "<Figure size 432x288 with 1 Axes>"
            ]
          },
          "metadata": {
            "tags": [],
            "needs_background": "light"
          }
        }
      ]
    },
    {
      "cell_type": "code",
      "metadata": {
        "id": "gsih6TLjRz5B"
      },
      "source": [
        "#now we draw pivot tables to look at salary by different categories"
      ],
      "execution_count": 56,
      "outputs": []
    },
    {
      "cell_type": "code",
      "metadata": {
        "colab": {
          "base_uri": "https://localhost:8080/",
          "height": 297
        },
        "id": "NlLT61CaTTWb",
        "outputId": "8c5bee4f-123b-429f-e991-a23372c9a85a"
      },
      "source": [
        "pd.pivot_table(df,index='Title Simp',values='Avg_Salary')"
      ],
      "execution_count": 60,
      "outputs": [
        {
          "output_type": "execute_result",
          "data": {
            "text/html": [
              "<div>\n",
              "<style scoped>\n",
              "    .dataframe tbody tr th:only-of-type {\n",
              "        vertical-align: middle;\n",
              "    }\n",
              "\n",
              "    .dataframe tbody tr th {\n",
              "        vertical-align: top;\n",
              "    }\n",
              "\n",
              "    .dataframe thead th {\n",
              "        text-align: right;\n",
              "    }\n",
              "</style>\n",
              "<table border=\"1\" class=\"dataframe\">\n",
              "  <thead>\n",
              "    <tr style=\"text-align: right;\">\n",
              "      <th></th>\n",
              "      <th>Avg_Salary</th>\n",
              "    </tr>\n",
              "    <tr>\n",
              "      <th>Title Simp</th>\n",
              "      <th></th>\n",
              "    </tr>\n",
              "  </thead>\n",
              "  <tbody>\n",
              "    <tr>\n",
              "      <th>analyst</th>\n",
              "      <td>74.212121</td>\n",
              "    </tr>\n",
              "    <tr>\n",
              "      <th>data engineer</th>\n",
              "      <td>105.562500</td>\n",
              "    </tr>\n",
              "    <tr>\n",
              "      <th>data scientist</th>\n",
              "      <td>115.637324</td>\n",
              "    </tr>\n",
              "    <tr>\n",
              "      <th>director</th>\n",
              "      <td>126.250000</td>\n",
              "    </tr>\n",
              "    <tr>\n",
              "      <th>manager</th>\n",
              "      <td>103.944444</td>\n",
              "    </tr>\n",
              "    <tr>\n",
              "      <th>ml</th>\n",
              "      <td>112.833333</td>\n",
              "    </tr>\n",
              "    <tr>\n",
              "      <th>na</th>\n",
              "      <td>86.169421</td>\n",
              "    </tr>\n",
              "  </tbody>\n",
              "</table>\n",
              "</div>"
            ],
            "text/plain": [
              "                Avg_Salary\n",
              "Title Simp                \n",
              "analyst          74.212121\n",
              "data engineer   105.562500\n",
              "data scientist  115.637324\n",
              "director        126.250000\n",
              "manager         103.944444\n",
              "ml              112.833333\n",
              "na               86.169421"
            ]
          },
          "metadata": {
            "tags": []
          },
          "execution_count": 60
        }
      ]
    },
    {
      "cell_type": "code",
      "metadata": {
        "id": "kY5Od5NUrebb"
      },
      "source": [
        "#we can see that directors are paid the most and then data scientists"
      ],
      "execution_count": null,
      "outputs": []
    },
    {
      "cell_type": "code",
      "metadata": {
        "colab": {
          "base_uri": "https://localhost:8080/",
          "height": 545
        },
        "id": "QZe_2nL1lweQ",
        "outputId": "5d61b950-37e8-4bdd-c3b6-446e7ce58db8"
      },
      "source": [
        "pd.pivot_table(df,index=['Title Simp','Seniority'],values='Avg_Salary')"
      ],
      "execution_count": 61,
      "outputs": [
        {
          "output_type": "execute_result",
          "data": {
            "text/html": [
              "<div>\n",
              "<style scoped>\n",
              "    .dataframe tbody tr th:only-of-type {\n",
              "        vertical-align: middle;\n",
              "    }\n",
              "\n",
              "    .dataframe tbody tr th {\n",
              "        vertical-align: top;\n",
              "    }\n",
              "\n",
              "    .dataframe thead th {\n",
              "        text-align: right;\n",
              "    }\n",
              "</style>\n",
              "<table border=\"1\" class=\"dataframe\">\n",
              "  <thead>\n",
              "    <tr style=\"text-align: right;\">\n",
              "      <th></th>\n",
              "      <th></th>\n",
              "      <th>Avg_Salary</th>\n",
              "    </tr>\n",
              "    <tr>\n",
              "      <th>Title Simp</th>\n",
              "      <th>Seniority</th>\n",
              "      <th></th>\n",
              "    </tr>\n",
              "  </thead>\n",
              "  <tbody>\n",
              "    <tr>\n",
              "      <th rowspan=\"2\" valign=\"top\">analyst</th>\n",
              "      <th>na</th>\n",
              "      <td>66.952830</td>\n",
              "    </tr>\n",
              "    <tr>\n",
              "      <th>sr</th>\n",
              "      <td>103.807692</td>\n",
              "    </tr>\n",
              "    <tr>\n",
              "      <th rowspan=\"3\" valign=\"top\">data engineer</th>\n",
              "      <th>jr</th>\n",
              "      <td>82.000000</td>\n",
              "    </tr>\n",
              "    <tr>\n",
              "      <th>na</th>\n",
              "      <td>100.632353</td>\n",
              "    </tr>\n",
              "    <tr>\n",
              "      <th>sr</th>\n",
              "      <td>120.269231</td>\n",
              "    </tr>\n",
              "    <tr>\n",
              "      <th rowspan=\"3\" valign=\"top\">data scientist</th>\n",
              "      <th>jr</th>\n",
              "      <td>95.000000</td>\n",
              "    </tr>\n",
              "    <tr>\n",
              "      <th>na</th>\n",
              "      <td>114.620968</td>\n",
              "    </tr>\n",
              "    <tr>\n",
              "      <th>sr</th>\n",
              "      <td>123.428571</td>\n",
              "    </tr>\n",
              "    <tr>\n",
              "      <th rowspan=\"2\" valign=\"top\">director</th>\n",
              "      <th>na</th>\n",
              "      <td>105.000000</td>\n",
              "    </tr>\n",
              "    <tr>\n",
              "      <th>sr</th>\n",
              "      <td>147.500000</td>\n",
              "    </tr>\n",
              "    <tr>\n",
              "      <th rowspan=\"2\" valign=\"top\">manager</th>\n",
              "      <th>na</th>\n",
              "      <td>107.187500</td>\n",
              "    </tr>\n",
              "    <tr>\n",
              "      <th>sr</th>\n",
              "      <td>78.000000</td>\n",
              "    </tr>\n",
              "    <tr>\n",
              "      <th>ml</th>\n",
              "      <th>na</th>\n",
              "      <td>112.833333</td>\n",
              "    </tr>\n",
              "    <tr>\n",
              "      <th rowspan=\"2\" valign=\"top\">na</th>\n",
              "      <th>na</th>\n",
              "      <td>78.060440</td>\n",
              "    </tr>\n",
              "    <tr>\n",
              "      <th>sr</th>\n",
              "      <td>110.766667</td>\n",
              "    </tr>\n",
              "  </tbody>\n",
              "</table>\n",
              "</div>"
            ],
            "text/plain": [
              "                          Avg_Salary\n",
              "Title Simp     Seniority            \n",
              "analyst        na          66.952830\n",
              "               sr         103.807692\n",
              "data engineer  jr          82.000000\n",
              "               na         100.632353\n",
              "               sr         120.269231\n",
              "data scientist jr          95.000000\n",
              "               na         114.620968\n",
              "               sr         123.428571\n",
              "director       na         105.000000\n",
              "               sr         147.500000\n",
              "manager        na         107.187500\n",
              "               sr          78.000000\n",
              "ml             na         112.833333\n",
              "na             na          78.060440\n",
              "               sr         110.766667"
            ]
          },
          "metadata": {
            "tags": []
          },
          "execution_count": 61
        }
      ]
    },
    {
      "cell_type": "code",
      "metadata": {
        "id": "Iuh1kHu2rpBR"
      },
      "source": [
        "#we see that seniors are paid more in all different titles"
      ],
      "execution_count": null,
      "outputs": []
    },
    {
      "cell_type": "code",
      "metadata": {
        "colab": {
          "base_uri": "https://localhost:8080/",
          "height": 1000
        },
        "id": "PhmOCsRVl0-3",
        "outputId": "83230022-8d46-4c5f-bd2f-e9b07ed5cea4"
      },
      "source": [
        "pd.pivot_table(df,index='State',values='Avg_Salary').sort_values('Avg_Salary',ascending=False)"
      ],
      "execution_count": 62,
      "outputs": [
        {
          "output_type": "execute_result",
          "data": {
            "text/html": [
              "<div>\n",
              "<style scoped>\n",
              "    .dataframe tbody tr th:only-of-type {\n",
              "        vertical-align: middle;\n",
              "    }\n",
              "\n",
              "    .dataframe tbody tr th {\n",
              "        vertical-align: top;\n",
              "    }\n",
              "\n",
              "    .dataframe thead th {\n",
              "        text-align: right;\n",
              "    }\n",
              "</style>\n",
              "<table border=\"1\" class=\"dataframe\">\n",
              "  <thead>\n",
              "    <tr style=\"text-align: right;\">\n",
              "      <th></th>\n",
              "      <th>Avg_Salary</th>\n",
              "    </tr>\n",
              "    <tr>\n",
              "      <th>State</th>\n",
              "      <th></th>\n",
              "    </tr>\n",
              "  </thead>\n",
              "  <tbody>\n",
              "    <tr>\n",
              "      <th>CA</th>\n",
              "      <td>136.268293</td>\n",
              "    </tr>\n",
              "    <tr>\n",
              "      <th>RI</th>\n",
              "      <td>122.000000</td>\n",
              "    </tr>\n",
              "    <tr>\n",
              "      <th>WA</th>\n",
              "      <td>119.000000</td>\n",
              "    </tr>\n",
              "    <tr>\n",
              "      <th>NY</th>\n",
              "      <td>116.900000</td>\n",
              "    </tr>\n",
              "    <tr>\n",
              "      <th>NJ</th>\n",
              "      <td>116.227273</td>\n",
              "    </tr>\n",
              "    <tr>\n",
              "      <th>DC</th>\n",
              "      <td>112.421053</td>\n",
              "    </tr>\n",
              "    <tr>\n",
              "      <th>AZ</th>\n",
              "      <td>104.214286</td>\n",
              "    </tr>\n",
              "    <tr>\n",
              "      <th>MD</th>\n",
              "      <td>103.797619</td>\n",
              "    </tr>\n",
              "    <tr>\n",
              "      <th>Remote</th>\n",
              "      <td>103.473684</td>\n",
              "    </tr>\n",
              "    <tr>\n",
              "      <th>GA</th>\n",
              "      <td>103.250000</td>\n",
              "    </tr>\n",
              "    <tr>\n",
              "      <th>VA</th>\n",
              "      <td>102.827869</td>\n",
              "    </tr>\n",
              "    <tr>\n",
              "      <th>CO</th>\n",
              "      <td>102.642857</td>\n",
              "    </tr>\n",
              "    <tr>\n",
              "      <th>NH</th>\n",
              "      <td>100.833333</td>\n",
              "    </tr>\n",
              "    <tr>\n",
              "      <th>DE</th>\n",
              "      <td>100.500000</td>\n",
              "    </tr>\n",
              "    <tr>\n",
              "      <th>HI</th>\n",
              "      <td>99.750000</td>\n",
              "    </tr>\n",
              "    <tr>\n",
              "      <th>MA</th>\n",
              "      <td>99.132353</td>\n",
              "    </tr>\n",
              "    <tr>\n",
              "      <th>OR</th>\n",
              "      <td>99.000000</td>\n",
              "    </tr>\n",
              "    <tr>\n",
              "      <th>CT</th>\n",
              "      <td>98.625000</td>\n",
              "    </tr>\n",
              "    <tr>\n",
              "      <th>UT</th>\n",
              "      <td>98.472222</td>\n",
              "    </tr>\n",
              "    <tr>\n",
              "      <th>TX</th>\n",
              "      <td>97.250000</td>\n",
              "    </tr>\n",
              "    <tr>\n",
              "      <th>MI</th>\n",
              "      <td>96.500000</td>\n",
              "    </tr>\n",
              "    <tr>\n",
              "      <th>ID</th>\n",
              "      <td>94.000000</td>\n",
              "    </tr>\n",
              "    <tr>\n",
              "      <th>NE</th>\n",
              "      <td>91.500000</td>\n",
              "    </tr>\n",
              "    <tr>\n",
              "      <th>IL</th>\n",
              "      <td>89.684211</td>\n",
              "    </tr>\n",
              "    <tr>\n",
              "      <th>AR</th>\n",
              "      <td>89.500000</td>\n",
              "    </tr>\n",
              "    <tr>\n",
              "      <th>OH</th>\n",
              "      <td>86.833333</td>\n",
              "    </tr>\n",
              "    <tr>\n",
              "      <th>NV</th>\n",
              "      <td>86.500000</td>\n",
              "    </tr>\n",
              "    <tr>\n",
              "      <th>IA</th>\n",
              "      <td>85.000000</td>\n",
              "    </tr>\n",
              "    <tr>\n",
              "      <th>MO</th>\n",
              "      <td>84.222222</td>\n",
              "    </tr>\n",
              "    <tr>\n",
              "      <th>SC</th>\n",
              "      <td>83.666667</td>\n",
              "    </tr>\n",
              "    <tr>\n",
              "      <th>IN</th>\n",
              "      <td>81.083333</td>\n",
              "    </tr>\n",
              "    <tr>\n",
              "      <th>MN</th>\n",
              "      <td>80.750000</td>\n",
              "    </tr>\n",
              "    <tr>\n",
              "      <th>WI</th>\n",
              "      <td>77.181818</td>\n",
              "    </tr>\n",
              "    <tr>\n",
              "      <th>NC</th>\n",
              "      <td>76.166667</td>\n",
              "    </tr>\n",
              "    <tr>\n",
              "      <th>FL</th>\n",
              "      <td>76.000000</td>\n",
              "    </tr>\n",
              "    <tr>\n",
              "      <th>TN</th>\n",
              "      <td>75.812500</td>\n",
              "    </tr>\n",
              "    <tr>\n",
              "      <th>KS</th>\n",
              "      <td>75.750000</td>\n",
              "    </tr>\n",
              "    <tr>\n",
              "      <th>OK</th>\n",
              "      <td>74.500000</td>\n",
              "    </tr>\n",
              "    <tr>\n",
              "      <th>KY</th>\n",
              "      <td>71.500000</td>\n",
              "    </tr>\n",
              "    <tr>\n",
              "      <th>ME</th>\n",
              "      <td>67.000000</td>\n",
              "    </tr>\n",
              "    <tr>\n",
              "      <th>PA</th>\n",
              "      <td>65.529412</td>\n",
              "    </tr>\n",
              "    <tr>\n",
              "      <th>NM</th>\n",
              "      <td>63.000000</td>\n",
              "    </tr>\n",
              "    <tr>\n",
              "      <th>AK</th>\n",
              "      <td>57.000000</td>\n",
              "    </tr>\n",
              "    <tr>\n",
              "      <th>na</th>\n",
              "      <td>53.000000</td>\n",
              "    </tr>\n",
              "    <tr>\n",
              "      <th>WY</th>\n",
              "      <td>50.500000</td>\n",
              "    </tr>\n",
              "  </tbody>\n",
              "</table>\n",
              "</div>"
            ],
            "text/plain": [
              "        Avg_Salary\n",
              "State             \n",
              "CA      136.268293\n",
              "RI      122.000000\n",
              "WA      119.000000\n",
              "NY      116.900000\n",
              "NJ      116.227273\n",
              "DC      112.421053\n",
              "AZ      104.214286\n",
              "MD      103.797619\n",
              "Remote  103.473684\n",
              "GA      103.250000\n",
              "VA      102.827869\n",
              "CO      102.642857\n",
              "NH      100.833333\n",
              "DE      100.500000\n",
              "HI       99.750000\n",
              "MA       99.132353\n",
              "OR       99.000000\n",
              "CT       98.625000\n",
              "UT       98.472222\n",
              "TX       97.250000\n",
              "MI       96.500000\n",
              "ID       94.000000\n",
              "NE       91.500000\n",
              "IL       89.684211\n",
              "AR       89.500000\n",
              "OH       86.833333\n",
              "NV       86.500000\n",
              "IA       85.000000\n",
              "MO       84.222222\n",
              "SC       83.666667\n",
              "IN       81.083333\n",
              "MN       80.750000\n",
              "WI       77.181818\n",
              "NC       76.166667\n",
              "FL       76.000000\n",
              "TN       75.812500\n",
              "KS       75.750000\n",
              "OK       74.500000\n",
              "KY       71.500000\n",
              "ME       67.000000\n",
              "PA       65.529412\n",
              "NM       63.000000\n",
              "AK       57.000000\n",
              "na       53.000000\n",
              "WY       50.500000"
            ]
          },
          "metadata": {
            "tags": []
          },
          "execution_count": 62
        }
      ]
    },
    {
      "cell_type": "code",
      "metadata": {
        "id": "lo-Zp9KxryfV"
      },
      "source": [
        "#we see how salary differs from state to state. but it can because of different numbers of different titles"
      ],
      "execution_count": null,
      "outputs": []
    },
    {
      "cell_type": "code",
      "metadata": {
        "colab": {
          "base_uri": "https://localhost:8080/",
          "height": 450
        },
        "id": "yT4_LopBmfI-",
        "outputId": "8c4c516f-cc03-416b-a7b2-04a4a9c3427f"
      },
      "source": [
        "pd.pivot_table(df,index=['State','Title Simp'],values='Avg_Salary')"
      ],
      "execution_count": 63,
      "outputs": [
        {
          "output_type": "execute_result",
          "data": {
            "text/html": [
              "<div>\n",
              "<style scoped>\n",
              "    .dataframe tbody tr th:only-of-type {\n",
              "        vertical-align: middle;\n",
              "    }\n",
              "\n",
              "    .dataframe tbody tr th {\n",
              "        vertical-align: top;\n",
              "    }\n",
              "\n",
              "    .dataframe thead th {\n",
              "        text-align: right;\n",
              "    }\n",
              "</style>\n",
              "<table border=\"1\" class=\"dataframe\">\n",
              "  <thead>\n",
              "    <tr style=\"text-align: right;\">\n",
              "      <th></th>\n",
              "      <th></th>\n",
              "      <th>Avg_Salary</th>\n",
              "    </tr>\n",
              "    <tr>\n",
              "      <th>State</th>\n",
              "      <th>Title Simp</th>\n",
              "      <th></th>\n",
              "    </tr>\n",
              "  </thead>\n",
              "  <tbody>\n",
              "    <tr>\n",
              "      <th rowspan=\"2\" valign=\"top\">AK</th>\n",
              "      <th>analyst</th>\n",
              "      <td>59.5</td>\n",
              "    </tr>\n",
              "    <tr>\n",
              "      <th>na</th>\n",
              "      <td>54.5</td>\n",
              "    </tr>\n",
              "    <tr>\n",
              "      <th>AR</th>\n",
              "      <th>na</th>\n",
              "      <td>89.5</td>\n",
              "    </tr>\n",
              "    <tr>\n",
              "      <th rowspan=\"2\" valign=\"top\">AZ</th>\n",
              "      <th>analyst</th>\n",
              "      <td>62.0</td>\n",
              "    </tr>\n",
              "    <tr>\n",
              "      <th>data engineer</th>\n",
              "      <td>88.5</td>\n",
              "    </tr>\n",
              "    <tr>\n",
              "      <th>...</th>\n",
              "      <th>...</th>\n",
              "      <td>...</td>\n",
              "    </tr>\n",
              "    <tr>\n",
              "      <th rowspan=\"3\" valign=\"top\">WI</th>\n",
              "      <th>data engineer</th>\n",
              "      <td>87.0</td>\n",
              "    </tr>\n",
              "    <tr>\n",
              "      <th>data scientist</th>\n",
              "      <td>89.5</td>\n",
              "    </tr>\n",
              "    <tr>\n",
              "      <th>na</th>\n",
              "      <td>69.5</td>\n",
              "    </tr>\n",
              "    <tr>\n",
              "      <th>WY</th>\n",
              "      <th>analyst</th>\n",
              "      <td>50.5</td>\n",
              "    </tr>\n",
              "    <tr>\n",
              "      <th>na</th>\n",
              "      <th>na</th>\n",
              "      <td>53.0</td>\n",
              "    </tr>\n",
              "  </tbody>\n",
              "</table>\n",
              "<p>123 rows × 1 columns</p>\n",
              "</div>"
            ],
            "text/plain": [
              "                      Avg_Salary\n",
              "State Title Simp                \n",
              "AK    analyst               59.5\n",
              "      na                    54.5\n",
              "AR    na                    89.5\n",
              "AZ    analyst               62.0\n",
              "      data engineer         88.5\n",
              "...                          ...\n",
              "WI    data engineer         87.0\n",
              "      data scientist        89.5\n",
              "      na                    69.5\n",
              "WY    analyst               50.5\n",
              "na    na                    53.0\n",
              "\n",
              "[123 rows x 1 columns]"
            ]
          },
          "metadata": {
            "tags": []
          },
          "execution_count": 63
        }
      ]
    },
    {
      "cell_type": "code",
      "metadata": {
        "id": "2c-MZfL8n3_y"
      },
      "source": [
        "#we can check only data scientist positions for states, so we can better see the diffrence between states in salary (not affected by title)"
      ],
      "execution_count": 69,
      "outputs": []
    },
    {
      "cell_type": "code",
      "metadata": {
        "colab": {
          "base_uri": "https://localhost:8080/",
          "height": 917
        },
        "id": "0PZ0-JMisC7j",
        "outputId": "dbea28a2-62f0-4615-cced-f7870b561f36"
      },
      "source": [
        "pd.pivot_table(df[df['Title Simp']=='data scientist'],index='State',values='Avg_Salary')"
      ],
      "execution_count": 70,
      "outputs": [
        {
          "output_type": "execute_result",
          "data": {
            "text/html": [
              "<div>\n",
              "<style scoped>\n",
              "    .dataframe tbody tr th:only-of-type {\n",
              "        vertical-align: middle;\n",
              "    }\n",
              "\n",
              "    .dataframe tbody tr th {\n",
              "        vertical-align: top;\n",
              "    }\n",
              "\n",
              "    .dataframe thead th {\n",
              "        text-align: right;\n",
              "    }\n",
              "</style>\n",
              "<table border=\"1\" class=\"dataframe\">\n",
              "  <thead>\n",
              "    <tr style=\"text-align: right;\">\n",
              "      <th></th>\n",
              "      <th>Avg_Salary</th>\n",
              "    </tr>\n",
              "    <tr>\n",
              "      <th>State</th>\n",
              "      <th></th>\n",
              "    </tr>\n",
              "  </thead>\n",
              "  <tbody>\n",
              "    <tr>\n",
              "      <th>AZ</th>\n",
              "      <td>129.166667</td>\n",
              "    </tr>\n",
              "    <tr>\n",
              "      <th>CA</th>\n",
              "      <td>170.353659</td>\n",
              "    </tr>\n",
              "    <tr>\n",
              "      <th>CO</th>\n",
              "      <td>108.416667</td>\n",
              "    </tr>\n",
              "    <tr>\n",
              "      <th>CT</th>\n",
              "      <td>86.000000</td>\n",
              "    </tr>\n",
              "    <tr>\n",
              "      <th>DC</th>\n",
              "      <td>115.933333</td>\n",
              "    </tr>\n",
              "    <tr>\n",
              "      <th>FL</th>\n",
              "      <td>82.875000</td>\n",
              "    </tr>\n",
              "    <tr>\n",
              "      <th>GA</th>\n",
              "      <td>107.250000</td>\n",
              "    </tr>\n",
              "    <tr>\n",
              "      <th>HI</th>\n",
              "      <td>111.500000</td>\n",
              "    </tr>\n",
              "    <tr>\n",
              "      <th>IL</th>\n",
              "      <td>101.437500</td>\n",
              "    </tr>\n",
              "    <tr>\n",
              "      <th>KS</th>\n",
              "      <td>105.000000</td>\n",
              "    </tr>\n",
              "    <tr>\n",
              "      <th>MA</th>\n",
              "      <td>103.411765</td>\n",
              "    </tr>\n",
              "    <tr>\n",
              "      <th>MD</th>\n",
              "      <td>102.560000</td>\n",
              "    </tr>\n",
              "    <tr>\n",
              "      <th>ME</th>\n",
              "      <td>86.000000</td>\n",
              "    </tr>\n",
              "    <tr>\n",
              "      <th>MN</th>\n",
              "      <td>101.500000</td>\n",
              "    </tr>\n",
              "    <tr>\n",
              "      <th>MO</th>\n",
              "      <td>92.083333</td>\n",
              "    </tr>\n",
              "    <tr>\n",
              "      <th>NC</th>\n",
              "      <td>76.166667</td>\n",
              "    </tr>\n",
              "    <tr>\n",
              "      <th>NE</th>\n",
              "      <td>91.500000</td>\n",
              "    </tr>\n",
              "    <tr>\n",
              "      <th>NJ</th>\n",
              "      <td>103.000000</td>\n",
              "    </tr>\n",
              "    <tr>\n",
              "      <th>NY</th>\n",
              "      <td>125.794118</td>\n",
              "    </tr>\n",
              "    <tr>\n",
              "      <th>OH</th>\n",
              "      <td>90.900000</td>\n",
              "    </tr>\n",
              "    <tr>\n",
              "      <th>PA</th>\n",
              "      <td>82.300000</td>\n",
              "    </tr>\n",
              "    <tr>\n",
              "      <th>Remote</th>\n",
              "      <td>122.214286</td>\n",
              "    </tr>\n",
              "    <tr>\n",
              "      <th>TN</th>\n",
              "      <td>96.250000</td>\n",
              "    </tr>\n",
              "    <tr>\n",
              "      <th>TX</th>\n",
              "      <td>109.065217</td>\n",
              "    </tr>\n",
              "    <tr>\n",
              "      <th>UT</th>\n",
              "      <td>104.033333</td>\n",
              "    </tr>\n",
              "    <tr>\n",
              "      <th>VA</th>\n",
              "      <td>103.736111</td>\n",
              "    </tr>\n",
              "    <tr>\n",
              "      <th>WI</th>\n",
              "      <td>89.500000</td>\n",
              "    </tr>\n",
              "  </tbody>\n",
              "</table>\n",
              "</div>"
            ],
            "text/plain": [
              "        Avg_Salary\n",
              "State             \n",
              "AZ      129.166667\n",
              "CA      170.353659\n",
              "CO      108.416667\n",
              "CT       86.000000\n",
              "DC      115.933333\n",
              "FL       82.875000\n",
              "GA      107.250000\n",
              "HI      111.500000\n",
              "IL      101.437500\n",
              "KS      105.000000\n",
              "MA      103.411765\n",
              "MD      102.560000\n",
              "ME       86.000000\n",
              "MN      101.500000\n",
              "MO       92.083333\n",
              "NC       76.166667\n",
              "NE       91.500000\n",
              "NJ      103.000000\n",
              "NY      125.794118\n",
              "OH       90.900000\n",
              "PA       82.300000\n",
              "Remote  122.214286\n",
              "TN       96.250000\n",
              "TX      109.065217\n",
              "UT      104.033333\n",
              "VA      103.736111\n",
              "WI       89.500000"
            ]
          },
          "metadata": {
            "tags": []
          },
          "execution_count": 70
        }
      ]
    },
    {
      "cell_type": "code",
      "metadata": {
        "colab": {
          "base_uri": "https://localhost:8080/",
          "height": 142
        },
        "id": "aDXjQT5voymV",
        "outputId": "e20bb22a-4c3f-4e01-ee61-41f6c67b7864"
      },
      "source": [
        "pd.pivot_table(df,index='Hourly',values='Avg_Salary')"
      ],
      "execution_count": 68,
      "outputs": [
        {
          "output_type": "execute_result",
          "data": {
            "text/html": [
              "<div>\n",
              "<style scoped>\n",
              "    .dataframe tbody tr th:only-of-type {\n",
              "        vertical-align: middle;\n",
              "    }\n",
              "\n",
              "    .dataframe tbody tr th {\n",
              "        vertical-align: top;\n",
              "    }\n",
              "\n",
              "    .dataframe thead th {\n",
              "        text-align: right;\n",
              "    }\n",
              "</style>\n",
              "<table border=\"1\" class=\"dataframe\">\n",
              "  <thead>\n",
              "    <tr style=\"text-align: right;\">\n",
              "      <th></th>\n",
              "      <th>Avg_Salary</th>\n",
              "    </tr>\n",
              "    <tr>\n",
              "      <th>Hourly</th>\n",
              "      <th></th>\n",
              "    </tr>\n",
              "  </thead>\n",
              "  <tbody>\n",
              "    <tr>\n",
              "      <th>0</th>\n",
              "      <td>103.599617</td>\n",
              "    </tr>\n",
              "    <tr>\n",
              "      <th>1</th>\n",
              "      <td>88.545455</td>\n",
              "    </tr>\n",
              "  </tbody>\n",
              "</table>\n",
              "</div>"
            ],
            "text/plain": [
              "        Avg_Salary\n",
              "Hourly            \n",
              "0       103.599617\n",
              "1        88.545455"
            ]
          },
          "metadata": {
            "tags": []
          },
          "execution_count": 68
        }
      ]
    },
    {
      "cell_type": "code",
      "metadata": {
        "id": "rva6HksppyD3"
      },
      "source": [
        "#we see that hourly are paid less"
      ],
      "execution_count": null,
      "outputs": []
    }
  ]
}